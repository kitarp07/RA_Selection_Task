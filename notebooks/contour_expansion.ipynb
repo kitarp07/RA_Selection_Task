{
 "cells": [
  {
   "cell_type": "code",
   "execution_count": 1,
   "id": "b211e2d6",
   "metadata": {},
   "outputs": [
    {
     "name": "stderr",
     "output_type": "stream",
     "text": [
      "c:\\Users\\DELL\\anaconda3\\Lib\\site-packages\\paramiko\\transport.py:219: CryptographyDeprecationWarning: Blowfish has been deprecated and will be removed in a future release\n",
      "  \"class\": algorithms.Blowfish,\n"
     ]
    }
   ],
   "source": [
    "import numpy as np\n",
    "import matplotlib.pyplot as plt\n",
    "import nibabel as nib\n",
    "import scipy.ndimage as ndimage\n",
    "from skimage.morphology import ball, binary_closing, remove_small_objects, binary_dilation, binary_erosion"
   ]
  },
  {
   "cell_type": "code",
   "execution_count": 3,
   "id": "25857aee",
   "metadata": {},
   "outputs": [],
   "source": [
    "path_to_data = \"../results/femur_tibia_mask.nii.gz\""
   ]
  },
  {
   "cell_type": "code",
   "execution_count": 4,
   "id": "a1dace5e",
   "metadata": {},
   "outputs": [
    {
     "data": {
      "text/plain": [
       "<nibabel.nifti1.Nifti1Image at 0x1df3117f0d0>"
      ]
     },
     "execution_count": 4,
     "metadata": {},
     "output_type": "execute_result"
    }
   ],
   "source": [
    "mask_vol = nib.load(path_to_data)\n",
    "mask_vol\n"
   ]
  },
  {
   "cell_type": "markdown",
   "id": "83f31dbb",
   "metadata": {},
   "source": [
    "Summary of Segmentation Mask\n",
    "Shape: (512, 512, 216) → 216 axial slices of 512×512 pixels\n",
    "\n",
    "Voxel size: (0.869 × 0.869 × 2.0 mm³) \n",
    "\n",
    "Datatype: 8-bit unsigned integer (uint8) — suitable for labeled masks\n",
    "\n",
    "Physical size of volume (approx.):\n",
    "\n",
    "Width: 512 × 0.869 mm ≈ 445 mm\n",
    "\n",
    "Height: 512 × 0.869 mm ≈ 445 mm\n",
    "\n",
    "Depth: 216 × 2.0 mm = 432 mm\n"
   ]
  },
  {
   "cell_type": "code",
   "execution_count": 5,
   "id": "3d269c9f",
   "metadata": {},
   "outputs": [
    {
     "data": {
      "text/plain": [
       "array([[-8.69140983e-01,  0.00000000e+00,  0.00000000e+00,\n",
       "         2.22500000e+02],\n",
       "       [ 0.00000000e+00, -8.69140983e-01,  0.00000000e+00,\n",
       "         2.22500000e+02],\n",
       "       [ 0.00000000e+00,  0.00000000e+00,  2.00000000e+00,\n",
       "        -9.00500000e+02],\n",
       "       [ 0.00000000e+00,  0.00000000e+00,  0.00000000e+00,\n",
       "         1.00000000e+00]])"
      ]
     },
     "execution_count": 5,
     "metadata": {},
     "output_type": "execute_result"
    }
   ],
   "source": [
    "mask = mask_vol.get_fdata() # get image array data\n",
    "affine = mask_vol.affine # gets affine transformation matrix associated with the volume data\n",
    "affine\n"
   ]
  },
  {
   "cell_type": "markdown",
   "id": "33de63b1",
   "metadata": {},
   "source": [
    "\n",
    "Matrix that describes the relationship between voxel coordinates in the image data array and real-world coordinates in a reference space\n",
    "\n"
   ]
  },
  {
   "cell_type": "code",
   "execution_count": null,
   "id": "b5f78cd2",
   "metadata": {},
   "outputs": [],
   "source": []
  },
  {
   "cell_type": "code",
   "execution_count": null,
   "id": "3a0ed05a",
   "metadata": {},
   "outputs": [],
   "source": []
  }
 ],
 "metadata": {
  "kernelspec": {
   "display_name": "base",
   "language": "python",
   "name": "python3"
  },
  "language_info": {
   "codemirror_mode": {
    "name": "ipython",
    "version": 3
   },
   "file_extension": ".py",
   "mimetype": "text/x-python",
   "name": "python",
   "nbconvert_exporter": "python",
   "pygments_lexer": "ipython3",
   "version": "3.11.7"
  }
 },
 "nbformat": 4,
 "nbformat_minor": 5
}
